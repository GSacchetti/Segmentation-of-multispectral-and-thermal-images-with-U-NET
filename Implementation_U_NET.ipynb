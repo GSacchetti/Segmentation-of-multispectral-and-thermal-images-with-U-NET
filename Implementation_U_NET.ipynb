{
  "nbformat": 4,
  "nbformat_minor": 0,
  "metadata": {
    "colab": {
      "name": "Imp_U-NET_1.ipynb",
      "provenance": []
    },
    "kernelspec": {
      "name": "python3",
      "display_name": "Python 3"
    }
  },
  "cells": [
    {
      "cell_type": "code",
      "metadata": {
        "id": "9sYiPKkaFWlx",
        "colab_type": "code",
        "colab": {}
      },
      "source": [
        "from google.colab import drive\n",
        "drive.mount(\"/content/gdrive\")"
      ],
      "execution_count": 0,
      "outputs": []
    },
    {
      "cell_type": "code",
      "metadata": {
        "id": "Lxiyas-jFoU1",
        "colab_type": "code",
        "colab": {}
      },
      "source": [
        "! git clone https://github.com/GSacchetti/Segmentation-of-multispectral-and-thermal-images-with-U-NET.git"
      ],
      "execution_count": 0,
      "outputs": []
    },
    {
      "cell_type": "code",
      "metadata": {
        "id": "DjHMJhA-GPaz",
        "colab_type": "code",
        "colab": {}
      },
      "source": [
        "%cd gdrive/My Drive/U-NET"
      ],
      "execution_count": 0,
      "outputs": []
    },
    {
      "cell_type": "code",
      "metadata": {
        "id": "_3RQ1-euGjOr",
        "colab_type": "code",
        "colab": {}
      },
      "source": [
        "!ls"
      ],
      "execution_count": 0,
      "outputs": []
    },
    {
      "cell_type": "code",
      "metadata": {
        "id": "WJSXrQ2oG0Qd",
        "colab_type": "code",
        "colab": {}
      },
      "source": [
        "!pip install -r requirements.txt"
      ],
      "execution_count": 0,
      "outputs": []
    },
    {
      "cell_type": "code",
      "metadata": {
        "id": "uRqVWPMQ1sWV",
        "colab_type": "code",
        "colab": {}
      },
      "source": [
        "!pip install xlrd==1.2"
      ],
      "execution_count": 0,
      "outputs": []
    },
    {
      "cell_type": "code",
      "metadata": {
        "id": "toMdYcGb04ua",
        "colab_type": "code",
        "colab": {}
      },
      "source": [
        "import xlrd"
      ],
      "execution_count": 0,
      "outputs": []
    },
    {
      "cell_type": "code",
      "metadata": {
        "id": "Wiohlsj11aTE",
        "colab_type": "code",
        "colab": {}
      },
      "source": [
        "print(xlrd.__VERSION__)"
      ],
      "execution_count": 0,
      "outputs": []
    },
    {
      "cell_type": "code",
      "metadata": {
        "id": "8Wlv7SZoM8Kf",
        "colab_type": "code",
        "colab": {}
      },
      "source": [
        "%run excel_to_tif_array.py"
      ],
      "execution_count": 0,
      "outputs": []
    },
    {
      "cell_type": "code",
      "metadata": {
        "id": "w7NoFso_PUzq",
        "colab_type": "code",
        "colab": {}
      },
      "source": [
        "%run create_train_test_data.py"
      ],
      "execution_count": 0,
      "outputs": []
    },
    {
      "cell_type": "code",
      "metadata": {
        "id": "nNygWWObNAT_",
        "colab_type": "code",
        "colab": {}
      },
      "source": [
        "import os\n",
        "import sys\n",
        "ROOT_DIR = os.path.abspath(\"/content/gdrive/My Drive/U-NET\")\n",
        "sys.path.append(ROOT_DIR)"
      ],
      "execution_count": 0,
      "outputs": []
    },
    {
      "cell_type": "code",
      "metadata": {
        "id": "q_SletkxZFwg",
        "colab_type": "code",
        "colab": {}
      },
      "source": [
        "%cd drive/My Drive/U-NET"
      ],
      "execution_count": 0,
      "outputs": []
    },
    {
      "cell_type": "code",
      "metadata": {
        "id": "t1p0BjoDPiat",
        "colab_type": "code",
        "colab": {}
      },
      "source": [
        "%run main.py"
      ],
      "execution_count": 0,
      "outputs": []
    },
    {
      "cell_type": "code",
      "metadata": {
        "id": "9Jb2YDtnmNUt",
        "colab_type": "code",
        "colab": {}
      },
      "source": [
        "!cat pred_unet.py"
      ],
      "execution_count": 0,
      "outputs": []
    },
    {
      "cell_type": "code",
      "metadata": {
        "id": "JX9_oE6LPoXa",
        "colab_type": "code",
        "colab": {}
      },
      "source": [
        "%run pred_unet.py"
      ],
      "execution_count": 0,
      "outputs": []
    }
  ]
}
