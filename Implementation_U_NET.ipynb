{
  "nbformat": 4,
  "nbformat_minor": 0,
  "metadata": {
    "colab": {
      "name": "Imp_U-NET_1.ipynb",
      "provenance": [],
      "collapsed_sections": [],
      "toc_visible": true
    },
    "kernelspec": {
      "name": "python3",
      "display_name": "Python 3"
    },
    "accelerator": "GPU"
  },
  "cells": [
    {
      "cell_type": "markdown",
      "metadata": {
        "id": "tUJdDwFEU2pA",
        "colab_type": "text"
      },
      "source": [
        "# Intialisation of the process on Google Colab"
      ]
    },
    {
      "cell_type": "code",
      "metadata": {
        "id": "9sYiPKkaFWlx",
        "colab_type": "code",
        "colab": {}
      },
      "source": [
        "# Installation of Google Drive\n",
        "from google.colab import drive\n",
        "drive.mount(\"/content/gdrive\")"
      ],
      "execution_count": null,
      "outputs": []
    },
    {
      "cell_type": "code",
      "metadata": {
        "id": "Lxiyas-jFoU1",
        "colab_type": "code",
        "colab": {}
      },
      "source": [
        "# Cloning of the GitHub repository onto Google Drive\n",
        "! git clone https://github.com/GSacchetti/Segmentation-of-multispectral-and-thermal-images-with-U-NET.git"
      ],
      "execution_count": null,
      "outputs": []
    },
    {
      "cell_type": "code",
      "metadata": {
        "id": "m3V9eUgx4D-F",
        "colab_type": "code",
        "colab": {}
      },
      "source": [
        "# Access to the folder on google Drive, if it doesn't work, access the pannel on the left, search for the repository and copy the path\n",
        "%cd gdrive/My Drive/U-NET"
      ],
      "execution_count": null,
      "outputs": []
    },
    {
      "cell_type": "code",
      "metadata": {
        "id": "_3RQ1-euGjOr",
        "colab_type": "code",
        "colab": {}
      },
      "source": [
        "# See all the folders contained in the repository\n",
        "!ls"
      ],
      "execution_count": null,
      "outputs": []
    },
    {
      "cell_type": "code",
      "metadata": {
        "id": "WJSXrQ2oG0Qd",
        "colab_type": "code",
        "colab": {}
      },
      "source": [
        "# Installation of the requirements\n",
        "!pip install -r requirements.txt"
      ],
      "execution_count": null,
      "outputs": []
    },
    {
      "cell_type": "code",
      "metadata": {
        "id": "uRqVWPMQ1sWV",
        "colab_type": "code",
        "colab": {}
      },
      "source": [
        "# Install a new version of xlrd\n",
        "!pip install xlrd==1.2"
      ],
      "execution_count": null,
      "outputs": []
    },
    {
      "cell_type": "code",
      "metadata": {
        "id": "toMdYcGb04ua",
        "colab_type": "code",
        "colab": {}
      },
      "source": [
        "# Verify that the right version has been installed (1.2.0)\n",
        "import xlrd\n",
        "print(xlrd.__VERSION__)\n"
      ],
      "execution_count": null,
      "outputs": []
    },
    {
      "cell_type": "markdown",
      "metadata": {
        "id": "Ux8bWvdbWZro",
        "colab_type": "text"
      },
      "source": [
        "# Initialisation of the GPU\n",
        "\n"
      ]
    },
    {
      "cell_type": "markdown",
      "metadata": {
        "id": "K5rasSEEWgHU",
        "colab_type": "text"
      },
      "source": [
        "To make sure you're borrowing a GPU from Google :\n",
        "  Go to \"Edit\" -> \"Notebook settings\" -> \"Hardware accelerators\" change it from \"None\" to \"GPU\" and finally \"Save\". \n",
        "  \n",
        "  Once this is done, run the three following cells to make sure the GPU is working correctly"
      ]
    },
    {
      "cell_type": "code",
      "metadata": {
        "id": "IIEt47lAMWUb",
        "colab_type": "code",
        "colab": {}
      },
      "source": [
        "# This cell return the name of the GPU (/device:GPU:0)\n",
        "import tensorflow as tf\n",
        "tf.test.gpu_device_name()"
      ],
      "execution_count": null,
      "outputs": []
    },
    {
      "cell_type": "code",
      "metadata": {
        "id": "rmFklJ2gMaHL",
        "colab_type": "code",
        "colab": {}
      },
      "source": [
        "from tensorflow.python.client import device_lib\n",
        "device_lib.list_local_devices()"
      ],
      "execution_count": null,
      "outputs": []
    },
    {
      "cell_type": "code",
      "metadata": {
        "id": "UbqyfBUfMdjY",
        "colab_type": "code",
        "colab": {}
      },
      "source": [
        "!cat /proc/meminfo"
      ],
      "execution_count": null,
      "outputs": []
    },
    {
      "cell_type": "markdown",
      "metadata": {
        "id": "O11N9017Xwpm",
        "colab_type": "text"
      },
      "source": [
        "# Data Preparation"
      ]
    },
    {
      "cell_type": "code",
      "metadata": {
        "id": "CEh3iayMqjXe",
        "colab_type": "code",
        "colab": {}
      },
      "source": [
        "# See the code for the transformation from excel to tif\n",
        "!cat Construction_data/excel_to_tif_array.py"
      ],
      "execution_count": null,
      "outputs": []
    },
    {
      "cell_type": "code",
      "metadata": {
        "id": "8Wlv7SZoM8Kf",
        "colab_type": "code",
        "colab": {}
      },
      "source": [
        "# Run the code to create the tif images\n",
        "%run Construction_data/excel_to_tif_array.py"
      ],
      "execution_count": null,
      "outputs": []
    },
    {
      "cell_type": "code",
      "metadata": {
        "id": "vCZLV-1eeVGo",
        "colab_type": "code",
        "colab": {}
      },
      "source": [
        "# See the code of create_train_test_data\n",
        "!cat Construction_data/create_train_test_data.py"
      ],
      "execution_count": null,
      "outputs": []
    },
    {
      "cell_type": "code",
      "metadata": {
        "id": "w7NoFso_PUzq",
        "colab_type": "code",
        "colab": {}
      },
      "source": [
        "# Split of the dataset 80% for training and 20% for verification\n",
        "%run Construction_data/create_train_test_data.py"
      ],
      "execution_count": null,
      "outputs": []
    },
    {
      "cell_type": "markdown",
      "metadata": {
        "id": "XxPo75HHZdsz",
        "colab_type": "text"
      },
      "source": [
        "# Training of U-NET"
      ]
    },
    {
      "cell_type": "code",
      "metadata": {
        "id": "GJ9H4KJI9hrq",
        "colab_type": "code",
        "colab": {}
      },
      "source": [
        "# See the function for loading the training and test datasets\n",
        "!cat load_train_test_data.py"
      ],
      "execution_count": null,
      "outputs": []
    },
    {
      "cell_type": "code",
      "metadata": {
        "id": "evJ4CbRuNtU6",
        "colab_type": "code",
        "colab": {}
      },
      "source": [
        "# See the model for the U-NET method, in this file the learning rate, optimizer, loss function, number of epochs before early stopping\n",
        "!cat model_unet.py"
      ],
      "execution_count": null,
      "outputs": []
    },
    {
      "cell_type": "code",
      "metadata": {
        "id": "cvUPusayVs-2",
        "colab_type": "code",
        "colab": {}
      },
      "source": [
        "# See the training algorithm for U-NET, in this file, it is possible to change the channels taken into account for the learning, as well as if it should load the weight or create\n",
        "# a new weight file\n",
        "!cat main.py"
      ],
      "execution_count": null,
      "outputs": []
    },
    {
      "cell_type": "code",
      "metadata": {
        "id": "t1p0BjoDPiat",
        "colab_type": "code",
        "colab": {}
      },
      "source": [
        "# Run the training algorithm, it will first load the datasets, then summarize the model and finally start training.\n",
        "# To change the channels used simply add : \"[4,5]\" after %run main.py.\n",
        "# Example :\n",
        "#%run main.py \"[0,1,2]\"\n",
        "%run main.py"
      ],
      "execution_count": null,
      "outputs": []
    },
    {
      "cell_type": "code",
      "metadata": {
        "id": "9Jb2YDtnmNUt",
        "colab_type": "code",
        "colab": {}
      },
      "source": [
        "# See the pred_unet file to make prediction depending on the weight file\n",
        "!cat pred_unet.py"
      ],
      "execution_count": null,
      "outputs": []
    },
    {
      "cell_type": "markdown",
      "metadata": {
        "id": "8jD5qPFRblZW",
        "colab_type": "text"
      },
      "source": [
        "IMPORTANT : Make sure the channels indicated in that file are the same ones as the one used for training.\n",
        "\n",
        "Channels can be changed directly in the file as well as the weight file to use.\n",
        "\n",
        "Multiple weight files are provided, trained on different combination of channels.\n",
        "\n",
        "To do so, go to line 63 :\n",
        "model = load_model('model-U_NET.h5')\n",
        "and change 'model-U_NET.h5' by 'model-U_NET_[...].h5', with in the brackets the channels wanted. Check \"!ls\" at the beginning to review all the available weight files.."
      ]
    },
    {
      "cell_type": "code",
      "metadata": {
        "id": "JX9_oE6LPoXa",
        "colab_type": "code",
        "colab": {}
      },
      "source": [
        "# To change the channels used simply add : \"[4,5]\" after %run pred_unet.py, also it is still needed to change the name of the weight file in the script according\n",
        "# to the restult you want.\n",
        "# Example :\n",
        "#%run pred_unet.py \"[0,1,2]\"\n",
        "\n",
        "# To make a prediction on one subset, use %run pred_unet.py \"[0,1,2,3,4,5,6]\" \"npy\" or %run pred_unet.py \"[0,1,2,3,4,5,6]\"\n",
        "# To make predictions on the full Dalles contained in \"/content/gdrive/My Drive/U-NET/data/Image_to_pred/DallesTif\", use %run pred_unet \"[0,1,2,3,4,5,6]\" \"tif\"\n",
        "%run pred_unet.py"
      ],
      "execution_count": null,
      "outputs": []
    },
    {
      "cell_type": "markdown",
      "metadata": {
        "id": "d-0kG4YacR_M",
        "colab_type": "text"
      },
      "source": [
        "# Precision measurment "
      ]
    },
    {
      "cell_type": "code",
      "metadata": {
        "id": "MT8K_3rsglxG",
        "colab_type": "code",
        "colab": {}
      },
      "source": [
        "# Loading of the images and transformation in array\n",
        "\n",
        "from PIL import Image\n",
        "from os.path import join\n",
        "import numpy as np\n",
        "\n",
        "# Ground truth :\n",
        "tif_path = join('/content/gdrive/My Drive/U-NET/data/Image_to_pred', 'Image_pred.tif')\n",
        "im_truth = Image.open(tif_path)\n",
        "\n",
        "truth_array = np.array(im_truth)\n",
        "\n",
        "# Latest Prediction :\n",
        "pred_path = join('/content/gdrive/My Drive/U-NET/EVALUATIONS','0.5Image.npy.png')\n",
        "im_pred = Image.open(pred_path)\n",
        "\n",
        "pred_array = np.array(im_pred)"
      ],
      "execution_count": null,
      "outputs": []
    },
    {
      "cell_type": "code",
      "metadata": {
        "id": "Fwj11U_7Qo8R",
        "colab_type": "code",
        "colab": {}
      },
      "source": [
        "truth_array_0 = truth_array[:,:,0]\n",
        "truth_array_1 = truth_array[:,:,1]\n",
        "truth_array_2 = truth_array[:,:,2]\n",
        "modif_array_0 = modif_array[:,:,0]"
      ],
      "execution_count": null,
      "outputs": []
    },
    {
      "cell_type": "code",
      "metadata": {
        "id": "N6jw5Qk49DTi",
        "colab_type": "code",
        "colab": {}
      },
      "source": [
        "# Precision formula :\n",
        "(np.sum(pred_array==modif_array_0)/truth_array_0.size)*100"
      ],
      "execution_count": null,
      "outputs": []
    },
    {
      "cell_type": "code",
      "metadata": {
        "id": "ZmBE_Fl3lfVD",
        "colab_type": "code",
        "colab": {}
      },
      "source": [
        "# See the measurment_functions file\n",
        "!cat measurment_functions.py"
      ],
      "execution_count": null,
      "outputs": []
    },
    {
      "cell_type": "code",
      "metadata": {
        "id": "h4LAccbVgtiJ",
        "colab_type": "code",
        "colab": {}
      },
      "source": [
        "# Returns nb_True_Negative, nb_True_Positive, nb_False_Positive, nb_False_Negative, accuracy, precision, recall, f_beta_score\n",
        "import measurment_functions\n",
        "beta = 1 # Change beta in function of the wanted results\n",
        "measurment_functions.measure(beta, pred_array, truth_array_0)"
      ],
      "execution_count": null,
      "outputs": []
    }
  ]
}